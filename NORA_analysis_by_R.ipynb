{
 "cells": [
  {
   "cell_type": "markdown",
   "metadata": {},
   "source": [
    "### Load library and data"
   ]
  },
  {
   "cell_type": "code",
   "execution_count": null,
   "metadata": {},
   "outputs": [],
   "source": [
    "library(RColorBrewer)\n",
    "library(Seurat)\n",
    "library(presto)\n",
    "library(dplyr)\n",
    "library(dittoSeq)\n",
    "library(devtools)\n",
    "library(SeuratData)\n",
    "library(Connectome)\n",
    "library(EnhancedVolcano)\n",
    "library(monocle)\n",
    "library(tibble)\n",
    "library(cowplot)\n",
    "library(ggplot2)\n",
    "library(gplots)\n",
    "library(plyr)\n",
    "library(grid)\n",
    "library(pheatmap)\n",
    "library(RColorBrewer)\n",
    "library(ggpubr)\n"
   ]
  },
  {
   "cell_type": "markdown",
   "metadata": {},
   "source": [
    "### Color"
   ]
  },
  {
   "cell_type": "code",
   "execution_count": null,
   "metadata": {},
   "outputs": [],
   "source": [
    "options(repr.plot.width=6, repr.plot.height=6)\n",
    "display.brewer.all()\n",
    "c1 =brewer.pal(n = 8, name = \"Set1\")\n",
    "c2 =brewer.pal(n = 8, name = \"Dark2\")\n",
    "c3 =brewer.pal(n = 8, name = \"Paired\")\n",
    "c4 =brewer.pal(n = 8, name = \"Accent\")\n",
    "\n",
    "Cols = c(c1,c2, c3, c4)"
   ]
  },
  {
   "cell_type": "code",
   "execution_count": null,
   "metadata": {},
   "outputs": [],
   "source": [
    "post_5cluster <- LoadH5Seurat(\"/home/sujin/NORA_post_enr_5clusters_raw.h5seurat\", assays='RNA')"
   ]
  },
  {
   "cell_type": "code",
   "execution_count": null,
   "metadata": {},
   "outputs": [],
   "source": [
    "post_5cluster <- NormalizeData(NORA, normalization.method = \"LogNormalize\", scale.factor = 10000)\n",
    "post_5cluster <- FindVariableFeatures(NORA, selection.method = \"vst\", nfeatures = 2000)\n",
    "all.genes <- rownames(post_5cluster)\n",
    "post_5cluster <- ScaleData(post_5cluster, features = all.genes)"
   ]
  },
  {
   "cell_type": "code",
   "execution_count": null,
   "metadata": {},
   "outputs": [],
   "source": [
    "cluster_order <- c(\"EP8-VIM-Pre\",\"EP8-VIM-Post\",\"EP9-AGER-Pre\",\"EP9-AGER-Post\",\"FB6-CD74-Pre\",\"FB6-CD74-Post\",\"EC9-LYZ-Pre\",\"EC9-LYZ-Post\",\"MAC1-SELENOP-Pre\",\"MAC1-SELENOP-Post\")\n",
    "post_5cluster$Annotation <- factor(post_5cluster$Annotation, levels = cluster_order)\n",
    "Idents(post_5cluster) <- post_5cluster$Annotation"
   ]
  },
  {
   "cell_type": "code",
   "execution_count": null,
   "metadata": {},
   "outputs": [],
   "source": [
    "group3_genes<- c(\"SCGB1A1\",\"SLPI\",\"MT-CO2\",\"MT-CO3\",\"PPDPF\", \"TSC22D1\",\"ATF3\",\"TIMP3\",\"FBP1\",\"NR4A1\",\"ZNF331\",\"DUSP2\",\"IL1B\",\"NFKBIZ\",\"IER3\",\"GADD45B\",\"HLA-DRA\",\"HLA-DRB1\",\"IFI30\",\"PSAP\",\"NFKBIA\",\"FTL\")"
   ]
  },
  {
   "cell_type": "code",
   "execution_count": null,
   "metadata": {},
   "outputs": [],
   "source": [
    "DotPlot(post_5cluster, features = group3_genes) + RotatedAxis() + theme(axis.text.x = element_text(angle = 90))+scale_colour_gradient2(low = \"blue\", mid = \"white\", high = \"red\") "
   ]
  },
  {
   "cell_type": "markdown",
   "metadata": {},
   "source": [
    "### Proportion (box plot)"
   ]
  },
  {
   "cell_type": "code",
   "execution_count": null,
   "metadata": {},
   "outputs": [],
   "source": [
    "prop_nora <- read.csv(\"/home/sujin/NORA_total_cluster_proportion.csv\")\n",
    "prop_nora$Treatment <- factor(prop_nora$Treatment , levels = c(\"Pre\",\"Post\"))\n",
    "prop_nora$EGFR_mutation <- factor(prop_nora$EGFR_mutation , levels = c(\"E19del\", \"L858R\"))\n",
    "prop_nora$MPR_type <- factor(prop_nora$MPR_type , levels = c(\"MPR\", \"nMPR\" ))\n",
    "prop_nora$Clinical_response <- factor(prop_nora$Clinical_response , levels = c( \"PR\" ,\"SD\"))"
   ]
  },
  {
   "cell_type": "code",
   "execution_count": null,
   "metadata": {},
   "outputs": [],
   "source": [
    "\n",
    "p<-ggplot(prop_nora, aes(x=Treatment, y=Epithelial.cells, fill=Treatment)) +\n",
    "  stat_boxplot(geom = \"errorbar\", width = 0.25) +\n",
    "  geom_boxplot(outlier.shape = NA)\n",
    "p + geom_dotplot(binaxis='y', stackdir='center', dotsize=1.1) + \n",
    "  stat_compare_means(comparisons = list(c(\"Pre\",\"Post\")),\n",
    "                     label = \"p.adj\", method = \"wilcox\", size = 4.1, test.args=list(alternative = \"two.sided\", var.equal = TRUE, paired=FALSE)) +\n",
    "  scale_fill_manual(values=c(\"#ABB99F\", \"#3D7E54\")) +\n",
    "  theme_linedraw() +\n",
    "  theme_light() +\n",
    "  ylim(0, 0.725) +\n",
    "  theme(panel.grid.major = element_blank(), panel.grid.minor = element_blank(),\n",
    "        panel.background = element_blank(), axis.line = element_blank()) + \n",
    "  theme(axis.title=element_text(size=16)) + \n",
    "  xlab(\" \") + ylab(\"Epithelial cells\") + \n",
    "  theme_classic() +\n",
    "  theme(axis.title.x= element_text (size=12, color=\"Black\",face = \"bold\"),\n",
    "        axis.title.y= element_text (size=12, color=\"Black\",face = \"bold\"),\n",
    "        axis.text.x= element_text (size=12, color=\"Black\"),\n",
    "        axis.text.y= element_text (size=12, color=\"Black\")) +\n",
    "  theme(legend.position=\"none\")\n",
    "\n"
   ]
  },
  {
   "cell_type": "markdown",
   "metadata": {},
   "source": [
    "### Trajectory (monocle2)"
   ]
  },
  {
   "cell_type": "code",
   "execution_count": null,
   "metadata": {},
   "outputs": [],
   "source": [
    "\n",
    "matrix_to_expression_df<- function(x, obj){\n",
    "  df<- x %>%\n",
    "    as.matrix() %>%\n",
    "    as.data.frame() %>%\n",
    "    tibble::rownames_to_column(var= \"gene\") %>%\n",
    "    tidyr::pivot_longer(cols = -1, names_to = \"barcode\", values_to = \"expression\") %>%\n",
    "    tidyr::pivot_wider(names_from = \"gene\", values_from = expression) %>%\n",
    "    left_join(obj@meta.data %>%\n",
    "                tibble::rownames_to_column(var = \"barcode\"))\n",
    "  return(df)\n",
    "}\n",
    "\n",
    "\n",
    "get_expression_data<- function(obj, assay = \"RNA\", slot = \"data\",\n",
    "                               genes = NULL, cells = NULL){\n",
    "  if (is.null(genes) & !is.null(cells)){\n",
    "    df<- GetAssayData(obj, assay = assay, slot = slot)[, cells, drop = FALSE] %>%\n",
    "      matrix_to_expression_df(obj = obj)\n",
    "  } else if (!is.null(genes) & is.null(cells)){\n",
    "    df <- GetAssayData(obj, assay = assay, slot = slot)[genes, , drop = FALSE] %>%\n",
    "      matrix_to_expression_df(obj = obj)\n",
    "  } else if (is.null(genes & is.null(cells))){\n",
    "    df <- GetAssayData(obj, assay = assay, slot = slot)[, , drop = FALSE] %>%\n",
    "      matrix_to_expression_df(obj = obj)\n",
    "  } else {\n",
    "    df<- GetAssayData(obj, assay = assay, slot = slot)[genes, cells, drop = FALSE] %>%\n",
    "      matrix_to_expression_df(obj = obj)\n",
    "  }\n",
    "  return(df)\n",
    "}"
   ]
  },
  {
   "cell_type": "code",
   "execution_count": null,
   "metadata": {},
   "outputs": [],
   "source": [
    "expression_data <- get_expression_data(NORA, genes = genes)\n",
    "expression_data"
   ]
  },
  {
   "cell_type": "code",
   "execution_count": null,
   "metadata": {},
   "outputs": [],
   "source": [
    "monocle_AT1 <- newCellDataSet(data_select,\n",
    "                               phenoData = pd_select,\n",
    "                               featureData = fd_select,\n",
    "                               lowerDetectionLimit = 0.5,\n",
    "                               expressionFamily = negbinomial.size())"
   ]
  },
  {
   "cell_type": "code",
   "execution_count": null,
   "metadata": {},
   "outputs": [],
   "source": [
    "monocle_at1_select <- monocle_AT1\n",
    "\n",
    "monocle_at1_select <- estimateSizeFactors(monocle_at1_select)\n",
    "monocle_at1_select <- estimateDispersions(monocle_at1_select)\n",
    "\n",
    "monocle_at1_select <- detectGenes(monocle_at1_select, min_expr = 1)\n",
    "\n",
    "head(fData)\n",
    "head(pData)\n"
   ]
  },
  {
   "cell_type": "code",
   "execution_count": null,
   "metadata": {},
   "outputs": [],
   "source": [
    "# standardise to Z-distribution\n",
    "x <- pd_select@data$n_genes\n",
    "x_1 <- (x - mean(x)) / sd(x)\n",
    "summary(x_1)"
   ]
  },
  {
   "cell_type": "code",
   "execution_count": null,
   "metadata": {},
   "outputs": [],
   "source": [
    "df <- data.frame(x = x_1)\n",
    "ggplot(df, aes(x)) +\n",
    "  geom_histogram(bins = 50) +\n",
    "  geom_vline(xintercept = c(-2, 2), linetype = \"dotted\", color = 'red')"
   ]
  },
  {
   "cell_type": "code",
   "execution_count": null,
   "metadata": {},
   "outputs": [],
   "source": [
    "ggplot(pd_select@data, aes(n_genes, cell)) + geom_point()"
   ]
  },
  {
   "cell_type": "code",
   "execution_count": null,
   "metadata": {},
   "outputs": [],
   "source": [
    "disp_table <- dispersionTable(monocle_apCAF_cp)\n",
    "head(disp_table)"
   ]
  },
  {
   "cell_type": "code",
   "execution_count": null,
   "metadata": {},
   "outputs": [],
   "source": [
    "table(disp_table$mean_expression>=0.01)"
   ]
  },
  {
   "cell_type": "code",
   "execution_count": null,
   "metadata": {},
   "outputs": [],
   "source": [
    "unsup_clustering_genes <- subset(disp_table, mean_expression >= 0.01)"
   ]
  },
  {
   "cell_type": "code",
   "execution_count": null,
   "metadata": {},
   "outputs": [],
   "source": [
    "monocle_at1_select <- setOrderingFilter(monocle_at1_select, unsup_clustering_genes$gene_id)\n",
    "plot_ordering_genes(monocle_at1_select)"
   ]
  },
  {
   "cell_type": "code",
   "execution_count": null,
   "metadata": {},
   "outputs": [],
   "source": [
    "monocle_at1_select <- reduceDimension(monocle_at1_select, max_components = 2, reduction_method = 'DDRTree', verbose = TRUE)"
   ]
  },
  {
   "cell_type": "code",
   "execution_count": null,
   "metadata": {},
   "outputs": [],
   "source": [
    "plot_cell_trajectory(monocle_apCAF_cp_select_10, color_by = \"State\", cell_size = 0.8, show_branch_points = FALSE, cell_link_size = 1) +theme_bw(base_size = 15)"
   ]
  },
  {
   "cell_type": "code",
   "execution_count": null,
   "metadata": {},
   "outputs": [],
   "source": [
    "plot_cell_trajectory(monocle_apCAF_cp_select_10, color_by = \"TKI\", cell_size = 0.8, show_branch_points = FALSE, cell_link_size = 1) +theme_bw(base_size = 15) "
   ]
  },
  {
   "cell_type": "code",
   "execution_count": null,
   "metadata": {},
   "outputs": [],
   "source": [
    "plot_cell_trajectory(monocle_apCAF_cp_select_10, color_by = \"Pseudotime\", cell_size = 0.8, show_branch_points = FALSE, cell_link_size = 1) +theme_bw(base_size = 15) "
   ]
  }
 ],
 "metadata": {
  "language_info": {
   "name": "python"
  },
  "orig_nbformat": 4
 },
 "nbformat": 4,
 "nbformat_minor": 2
}
